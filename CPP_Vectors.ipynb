{
 "cells": [
  {
   "cell_type": "markdown",
   "metadata": {
    "graffitiCellId": "id_ydb7da9"
   },
   "source": [
    "## Vector Containers\n",
    "\n",
    "### 1D Vectors\n",
    "\n",
    "C++ also has several container types that can be used for storing data. We will start with `vector`s, as these will be used throughout this lesson, but we will also introduce other container types as needed.\n",
    "\n",
    "Vectors are a sequence of elements of a single type, and have useful methods for getting the size, testing if the vector is empty, and adding elements to the vector."
   ]
  },
  {
   "cell_type": "code",
   "execution_count": 1,
   "metadata": {
    "graffitiCellId": "id_qx41jvw",
    "graffitiConfig": {
     "executeCellViaGraffiti": "svhywhq_eirdqbh"
    }
   },
   "outputs": [
    {
     "name": "stdout",
     "output_type": "stream",
     "text": [
      "Everything worked!\n"
     ]
    }
   ],
   "source": [
    "#include <iostream>\n",
    "#include <vector>\n",
    "using std::vector;\n",
    "using std::cout;\n",
    "\n",
    "\n",
    "// Three ways of declaring and initializing vectors.\n",
    "vector<int> v_1{0, 1, 2};\n",
    "vector<int> v_2 = {3, 4, 5};\n",
    "vector<int> v_3;\n",
    "v_3 = {6};\n",
    "cout << \"Everything worked!\" << \"\\n\";"
   ]
  },
  {
   "cell_type": "markdown",
   "metadata": {
    "graffitiCellId": "id_gj93sl5"
   },
   "source": [
    "### 2D Vectors\n",
    "Unfortunately, there isn't a built-in way to print vectors in C++ using `cout`. You will learn how to access vector elements and you will write your own function to print vectors later. For now, you can see how vectors are created and stored. Below, you can see how to nest vectors to create 2D containers."
   ]
  },
  {
   "cell_type": "code",
   "execution_count": 2,
   "metadata": {
    "graffitiCellId": "id_k4urhee",
    "graffitiConfig": {
     "executeCellViaGraffiti": "cn1rczn_gpkl4m8"
    }
   },
   "outputs": [
    {
     "name": "stdout",
     "output_type": "stream",
     "text": [
      "Great! A 2D vector has been created.\n"
     ]
    }
   ],
   "source": [
    "#include <iostream>\n",
    "#include <vector>\n",
    "using std::vector;\n",
    "using std::cout;\n",
    "\n",
    "\n",
    "// Creating a 2D vector.\n",
    "vector<vector<int>> v {{1,2}, {3,4}};\n",
    "cout << \"Great! A 2D vector has been created.\" << \"\\n\";"
   ]
  },
  {
   "cell_type": "markdown",
   "metadata": {
    "graffitiCellId": "id_c43z593"
   },
   "source": [
    "### Practice\n",
    "\n",
    "Practice declaring a `vector<int>` in the cell below, and assign the value `{6, 7, 8}`."
   ]
  },
  {
   "cell_type": "code",
   "execution_count": 3,
   "metadata": {
    "graffitiCellId": "id_tsxegfd",
    "graffitiConfig": {
     "executeCellViaGraffiti": "1a1nu2i_5mgzhjx"
    }
   },
   "outputs": [],
   "source": [
    "#include <iostream>\n",
    "#include <vector>\n",
    "using std::vector;\n",
    "using std::cout;\n",
    "\n",
    "\n",
    "    // Declare and initialize a vector v here.\n",
    "    \n"
   ]
  }
 ],
 "metadata": {
  "graffiti": {
   "firstAuthorId": "813558546",
   "id": "id_ngrn6v8",
   "language": "EN"
  },
  "kernelspec": {
   "display_name": "C++17",
   "language": "C++17",
   "name": "xcpp17"
  },
  "language_info": {
   "codemirror_mode": "text/x-c++src",
   "file_extension": ".cpp",
   "mimetype": "text/x-c++src",
   "name": "c++",
   "version": "17"
  }
 },
 "nbformat": 4,
 "nbformat_minor": 2
}
