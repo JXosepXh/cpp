{
 "cells": [
  {
   "cell_type": "markdown",
   "metadata": {
    "graffitiCellId": "id_joftlv7",
    "id": "RK1FL3SCc-Tu"
   },
   "source": [
    "## オブジェクトのないコード\n",
    "\n",
    "複数の車をモデル化するプログラムを書いていたとします。プログラムでは、それぞれの車の色と走行距離を記録し、その距離をインクリメントして車のプロパティを印刷できるようにしたいと考えています。これを実現するために、以下のようなコードを書くことができます: "
   ]
  },
  {
   "cell_type": "code",
   "execution_count": 1,
   "metadata": {
    "graffitiCellId": "id_7cbs24z",
    "graffitiConfig": {
     "executeCellViaGraffiti": "vmcybyn_tj2haa7"
    },
    "id": "lzDr2u0uc-Ty"
   },
   "outputs": [
    {
     "name": "stdout",
     "output_type": "stream",
     "text": [
      "The distance that the green car 1 has traveled is: 1\n",
      "The distance that the red car 2 has traveled is: 0\n",
      "The distance that the blue car 3 has traveled is: 0\n"
     ]
    },
    {
     "data": {
      "text/plain": [
       "@0x7ffb50a19b60"
      ]
     },
     "execution_count": 1,
     "metadata": {},
     "output_type": "execute_result"
    }
   ],
   "source": [
    "#include <iostream>\n",
    "#include <string>\n",
    "using std::string;\n",
    "using std::cout;\n",
    "\n",
    "\n",
    "// 各車の色を保持する変数。\n",
    "string car_1_color = \"green\";\n",
    "string car_2_color = \"red\";\n",
    "string car_3_color = \"blue\";\n",
    "\n",
    "// 各車の初期位置を表す変数。\n",
    "int car_1_distance = 0;\n",
    "int car_2_distance = 0;\n",
    "int car_3_distance = 0;\n",
    "\n",
    "// car_1の位置を1だけ増やす。\n",
    "car_1_distance++;\n",
    "\n",
    "// 各車の位置と色を印刷する。\n",
    "cout << \"The distance that the \" << car_1_color << \" car 1 has traveled is: \" << car_1_distance << \"\\n\";\n",
    "cout << \"The distance that the \" << car_2_color << \" car 2 has traveled is: \" << car_2_distance << \"\\n\";\n",
    "cout << \"The distance that the \" << car_3_color << \" car 3 has traveled is: \" << car_3_distance << \"\\n\";\n",
    "\n"
   ]
  },
  {
   "cell_type": "markdown",
   "metadata": {
    "graffitiCellId": "id_w8xkqts",
    "id": "H-1u5lONc-Un"
   },
   "source": [
    "これはプログラムで定義された数台の車に対しては有効ですが、もしプログラムで _多数の_ 車を追跡したい場合、少々面倒なことになります。車ごとに新しい変数を作らなければならず、コードがすぐに散らかってしまいます。これを解決する一つの方法は、変数を属性として持つ `Car` クラスを定義し、移動距離を増加させたり、車のデータを印刷するいくつかのクラスメソッドを追加することです。"
   ]
  },
  {
   "cell_type": "markdown",
   "metadata": {
    "graffitiCellId": "id_qgadqxy",
    "id": "rC8BFsThc-Un"
   },
   "source": [
    "## オブジェクトを使ったコード\n",
    "\n",
    "次のセルでは、上のコードを `Car` クラスを使って書き直しています。"
   ]
  },
  {
   "cell_type": "code",
   "execution_count": 2,
   "metadata": {
    "id": "N3iLm_py7wG6"
   },
   "outputs": [],
   "source": [
    "#include <iostream>\n",
    "#include <string>\n",
    "using std::string;\n",
    "using std::cout;"
   ]
  },
  {
   "cell_type": "code",
   "execution_count": 3,
   "metadata": {
    "id": "jOtjLqtv7v7o"
   },
   "outputs": [],
   "source": [
    "\n",
    "// The Car class\n",
    "class Car {\n",
    "  public:\n",
    "    // データを印刷するメソッド。\n",
    "    void PrintCarData() \n",
    "    {\n",
    "        std::cout << \"The distance that the \" << color << \" car \" << number << \" has traveled is: \" << distance << \"\\n\";\n",
    "    }\n",
    "    \n",
    "    // 移動した距離を増加させるメソッド。\n",
    "    void IncrementDistance() \n",
    "    {\n",
    "        distance++;\n",
    "    }\n",
    "    \n",
    "    // クラス/オブジェクトの属性\n",
    "    std::string color;\n",
    "    int distance = 0;\n",
    "    int number;\n",
    "};"
   ]
  },
  {
   "cell_type": "code",
   "execution_count": 4,
   "metadata": {
    "id": "a0fKz5aX7xvm"
   },
   "outputs": [
    {
     "name": "stdout",
     "output_type": "stream",
     "text": [
      "The distance that the green car 1 has traveled is: 1\n",
      "The distance that the red car 2 has traveled is: 0\n",
      "The distance that the blue car 3 has traveled is: 0\n"
     ]
    }
   ],
   "source": [
    "    // 各車のクラスインスタンスを作成。\n",
    "    Car car_1, car_2, car_3;\n",
    "\n",
    "    // インスタンスの色を設定。\n",
    "    car_1.color = \"green\";\n",
    "    car_2.color = \"red\";\n",
    "    car_3.color = \"blue\";\n",
    "\n",
    "    //　各インスタンスの番号を設定。 \n",
    "    car_1.number = 1;\n",
    "    car_2.number = 2;\n",
    "    car_3.number = 3;\n",
    "\n",
    "    // car_1の位置を1だけ増やす。\n",
    "    car_1.IncrementDistance();\n",
    "\n",
    "    // 各車の位置と色を印刷する。\n",
    "    car_1.PrintCarData();\n",
    "    car_2.PrintCarData();\n",
    "    car_3.PrintCarData();"
   ]
  },
  {
   "cell_type": "markdown",
   "metadata": {
    "graffitiCellId": "id_74gfu3x",
    "id": "B1wUugh8c-U7"
   },
   "source": [
    "これで問題がないように見えますし、`main` 内の変数の数を減らしたこともあり、さらに全体を整えるのは何をすればいいかが分かるかもしれません。しかし、最初に書いたコードよりもさらに多くの種類のコードがあり、`main`はそれほど整理されているようには見えません。上のコードでは、車が作成された後でも各車の属性を設定しています。\n",
    "\n",
    "### コンストラクタの追加\n",
    "\n",
    "この問題を解決する最も良い方法は、`Car` クラスに _コンストラクタ_ を追加することです。コンストラクタを使用すると、必要なデータを持つ新しいオブジェクトをインスタンス化することができます。次のコードセルでは、`Car`にコンストラクタを追加して、`number`と`color`を渡すことができるようにしています。つまり、それぞれの`Car`オブジェクトは、これらの変数を使って作成できるのです。"
   ]
  },
  {
   "cell_type": "code",
   "execution_count": 5,
   "metadata": {
    "graffitiCellId": "id_sq4030y",
    "graffitiConfig": {
     "executeCellViaGraffiti": "j4zxcn7_qhlgzj4"
    },
    "id": "qVN2yM_tc-U9"
   },
   "outputs": [],
   "source": [
    "#include <iostream>\n",
    "#include <string>\n",
    "using std::string;\n",
    "using std::cout;"
   ]
  },
  {
   "cell_type": "code",
   "execution_count": 7,
   "metadata": {
    "id": "C4214zyU8ZAm"
   },
   "outputs": [],
   "source": [
    "\n",
    "class Car {\n",
    "  public:\n",
    "    void PrintCarData() \n",
    "    {\n",
    "        std::cout << \"The distance that the \" << color << \" car \" << number << \" has traveled is: \" << distance << \"\\n\";\n",
    "    }\n",
    "\n",
    "    void IncrementDistance() \n",
    "    {\n",
    "        distance++;\n",
    "    }\n",
    "    \n",
    "    // ここにコンストラクタを追加:\n",
    "    Car(string c, int n) \n",
    "    {\n",
    "        // コンストラクタに渡された値で\n",
    "        // クラスの属性を設定。\n",
    "        color = c;\n",
    "        number = n;\n",
    "    }\n",
    "    \n",
    "    std::string color;\n",
    "    int distance = 0;\n",
    "    int number;\n",
    "};\n"
   ]
  },
  {
   "cell_type": "code",
   "execution_count": 8,
   "metadata": {
    "id": "1v8HTjLO8ZWz"
   },
   "outputs": [
    {
     "name": "stdout",
     "output_type": "stream",
     "text": [
      "The distance that the green car 1 has traveled is: 1\n",
      "The distance that the red car 2 has traveled is: 0\n",
      "The distance that the blue car 3 has traveled is: 0\n"
     ]
    }
   ],
   "source": [
    "    // 各車のクラスのインスタンスを作成。\n",
    "    Car car_1 = Car(\"green\", 1);\n",
    "    Car car_2 = Car(\"red\", 2);\n",
    "    Car car_3 = Car(\"blue\", 3);\n",
    "\n",
    "    // car_1の位置を1だけ増やす。\n",
    "    car_1.IncrementDistance();\n",
    "\n",
    "    // 各車の位置と色を印刷する。\n",
    "    car_1.PrintCarData();\n",
    "    car_2.PrintCarData();\n",
    "    car_3.PrintCarData();"
   ]
  },
  {
   "cell_type": "markdown",
   "metadata": {
    "graffitiCellId": "id_00pxxb7",
    "id": "siowsqWEc-VA"
   },
   "source": [
    "だんだん良い感じになってきました。クラス定義に対応するために全体的に少しコードが増えていますが、`main` は最初に始めたときよりも整っています。この時点では、クラス定義を独自の `.h` と `.cpp` ファイルに分けたいと思うかもしれません。それを次のセクションでやってみましょう！"
   ]
  }
 ],
 "metadata": {
  "colab": {
   "collapsed_sections": [],
   "name": "Classes_and_Object_Oriented_Programming.ipynb",
   "provenance": []
  },
  "graffiti": {
   "firstAuthorId": "813558546",
   "id": "id_9ceo9do",
   "language": "EN"
  },
  "kernelspec": {
   "display_name": "C++17",
   "language": "C++17",
   "name": "xcpp17"
  },
  "language_info": {
   "codemirror_mode": "text/x-c++src",
   "file_extension": ".cpp",
   "mimetype": "text/x-c++src",
   "name": "c++",
   "version": "17"
  }
 },
 "nbformat": 4,
 "nbformat_minor": 1
}
