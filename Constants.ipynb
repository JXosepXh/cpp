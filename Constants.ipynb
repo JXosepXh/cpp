{
 "cells": [
  {
   "cell_type": "markdown",
   "metadata": {
    "graffitiCellId": "id_r843k7j"
   },
   "source": [
    "# Constants\n",
    "\n",
    "This example highlights how to use `const` to promise not to modify a variable, even though the variable can only be evaluated at run time.\n",
    "\n",
    "The example also show how to use `constexpr` to guarantee that a variable can be evaluated at compile time."
   ]
  },
  {
   "cell_type": "code",
   "execution_count": 1,
   "metadata": {
    "graffitiCellId": "id_czkjnvo",
    "graffitiConfig": {
     "executeCellViaGraffiti": "9daoia7_p5h1y8n"
    }
   },
   "outputs": [
    {
     "name": "stdout",
     "output_type": "stream",
     "text": [
      "Enter an integer value for i: 5\n",
      "j = 10\n",
      "k = 3\n"
     ]
    }
   ],
   "source": [
    "#include <iostream>\n",
    "int i;\n",
    "std::cout << \"Enter an integer value for i: \";\n",
    "std::cin >> i;\n",
    "const int j = i * 2;  // \"j can only be evaluated at run time.\"\n",
    "                      // \"But I promise not to change it after it is initialized.\"\n",
    "\n",
    "constexpr int k = 3;  // \"k, in contrast, can be evaluated at compile time.\"\n",
    "\n",
    "std::cout << \"j = \" << j << \"\\n\";\n",
    "std::cout << \"k = \" << k << \"\\n\";\n"
   ]
  },
  {
   "cell_type": "markdown",
   "metadata": {
    "graffitiCellId": "id_hzyfm2o"
   },
   "source": [
    "The compiler will catch a `const` variable that changes."
   ]
  },
  {
   "cell_type": "code",
   "execution_count": 11,
   "metadata": {
    "graffitiCellId": "id_mdc5rul",
    "graffitiConfig": {
     "executeCellViaGraffiti": "zpsfp04_vd4pmdf"
    }
   },
   "outputs": [
    {
     "name": "stderr",
     "output_type": "stream",
     "text": [
      "input_line_19:3:2: error: cannot assign to variable 'i' with const-qualified type 'const int'\n",
      "i++;             // \"I just broke my promise.\"\n",
      "~^\n",
      "input_line_19:2:12: note: variable 'i' declared const here\n",
      " const int i = 2; // \"I promise not to change this.\"\n",
      " ~~~~~~~~~~^~~~~\n"
     ]
    },
    {
     "ename": "Interpreter Error",
     "evalue": "",
     "output_type": "error",
     "traceback": [
      "Interpreter Error: "
     ]
    }
   ],
   "source": [
    "const int i = 2; // \"I promise not to change this.\"\n",
    "i++;             // \"I just broke my promise.\""
   ]
  },
  {
   "cell_type": "markdown",
   "metadata": {
    "graffitiCellId": "id_o8apmhd"
   },
   "source": [
    "Similarly, the compiler will catch a `constexpr` variable that changes."
   ]
  },
  {
   "cell_type": "code",
   "execution_count": 12,
   "metadata": {
    "graffitiCellId": "id_vwm5y93",
    "graffitiConfig": {
     "executeCellViaGraffiti": "6cm8alc_ampzw92"
    }
   },
   "outputs": [
    {
     "name": "stderr",
     "output_type": "stream",
     "text": [
      "input_line_20:3:2: error: cannot assign to variable 'i' with const-qualified type 'const int'\n",
      "i++;                  // \"But changing a constexpr variable triggers an error.\"\n",
      "~^\n",
      "input_line_20:2:16: note: variable 'i' declared const here\n",
      " constexpr int i = 2;  // \"i can be evaluated at compile time.\"\n",
      " ~~~~~~~~~~~~~~^~~~~\n"
     ]
    },
    {
     "ename": "Interpreter Error",
     "evalue": "",
     "output_type": "error",
     "traceback": [
      "Interpreter Error: "
     ]
    }
   ],
   "source": [
    "constexpr int i = 2;  // \"i can be evaluated at compile time.\"\n",
    "i++;                  // \"But changing a constexpr variable triggers an error.\""
   ]
  },
  {
   "cell_type": "markdown",
   "metadata": {
    "graffitiCellId": "id_j1tbt1a"
   },
   "source": [
    "The major difference between `const` and `constexpr`, though, is that `constexpr` must be evaluated at compile time.\n",
    "\n",
    "The compiler will catch a `constexpr` variable that cannot be evaluated at compile time."
   ]
  },
  {
   "cell_type": "code",
   "execution_count": 4,
   "metadata": {
    "graffitiCellId": "id_ljgezkm",
    "graffitiConfig": {
     "executeCellViaGraffiti": "oc4cka0_6bvce88"
    }
   },
   "outputs": [
    {
     "name": "stderr",
     "output_type": "stream",
     "text": [
      "input_line_12:5:15: error: constexpr variable 'j' must be initialized by a constant expression\n",
      "constexpr int j = i * 2;  // \"j can only be evaluated at run time.\"\n",
      "              ^   ~~~~~\n",
      "input_line_12:5:19: note: read of non-const variable 'i' is not allowed in a constant expression\n",
      "constexpr int j = i * 2;  // \"j can only be evaluated at run time.\"\n",
      "                  ^\n",
      "input_line_12:2:6: note: declared here\n",
      " int i;\n",
      "     ^\n"
     ]
    },
    {
     "ename": "Interpreter Error",
     "evalue": "",
     "output_type": "error",
     "traceback": [
      "Interpreter Error: "
     ]
    }
   ],
   "source": [
    "#include <iostream>\n",
    "\n",
    "int i;\n",
    "std::cout << \"Enter an integer value for i: \";\n",
    "std::cin >> i;\n",
    "constexpr int j = i * 2;  // \"j can only be evaluated at run time.\"\n",
    "                          // \"constexpr must be evaluated at compile time.\"\n",
    "                          // \"So this code will produce a compilation error.\"\n"
   ]
  },
  {
   "cell_type": "markdown",
   "metadata": {
    "graffitiCellId": "id_49699vw"
   },
   "source": [
    "A common usage of `const` is to guard against accidentally changing a variable, especially when it is passed-by-reference as a function argument."
   ]
  },
  {
   "cell_type": "code",
   "execution_count": 13,
   "metadata": {
    "graffitiCellId": "id_fkbtwee",
    "graffitiConfig": {
     "executeCellViaGraffiti": "q3f958n_imkk2gs"
    }
   },
   "outputs": [],
   "source": [
    "#include <iostream>\n",
    "#include <vector>"
   ]
  },
  {
   "cell_type": "code",
   "execution_count": 14,
   "metadata": {},
   "outputs": [],
   "source": [
    "int sum(const std::vector<int> &v)\n",
    "{\n",
    "    int sum = 0;\n",
    "    for(int i : v)\n",
    "        sum += i;\n",
    "    return sum;\n",
    "}"
   ]
  },
  {
   "cell_type": "code",
   "execution_count": 15,
   "metadata": {},
   "outputs": [
    {
     "name": "stderr",
     "output_type": "stream",
     "text": [
      "input_line_23:2:19: error: no matching constructor for initialization of 'std::vector<int>'\n",
      " std::vector<int> v {0, 1, 2, 3, 4};\n",
      "                  ^ ~~~~~~~~~~~~~~~\n",
      "/srv/conda/envs/notebook/bin/../lib/gcc/x86_64-conda-linux-gnu/9.3.0/../../../../x86_64-conda-linux-gnu/include/c++/9.3.0/bits/stl_vector.h:650:2: note: candidate constructor template not viable: requires at most 3 arguments, but 5 were provided\n",
      "        vector(_InputIterator __first, _InputIterator __last,\n",
      "        ^\n",
      "/srv/conda/envs/notebook/bin/../lib/gcc/x86_64-conda-linux-gnu/9.3.0/../../../../x86_64-conda-linux-gnu/include/c++/9.3.0/bits/stl_vector.h:519:7: note: candidate constructor not viable: requires at most 3 arguments, but 5 were provided\n",
      "      vector(size_type __n, const value_type& __value,\n",
      "      ^\n",
      "/srv/conda/envs/notebook/bin/../lib/gcc/x86_64-conda-linux-gnu/9.3.0/../../../../x86_64-conda-linux-gnu/include/c++/9.3.0/bits/stl_vector.h:582:7: note: candidate constructor not viable: requires 3 arguments, but 5 were provided\n",
      "      vector(vector&& __rv, const allocator_type& __m, true_type) noexcept\n",
      "      ^\n",
      "/srv/conda/envs/notebook/bin/../lib/gcc/x86_64-conda-linux-gnu/9.3.0/../../../../x86_64-conda-linux-gnu/include/c++/9.3.0/bits/stl_vector.h:586:7: note: candidate constructor not viable: requires 3 arguments, but 5 were provided\n",
      "      vector(vector&& __rv, const allocator_type& __m, false_type)\n",
      "      ^\n",
      "/srv/conda/envs/notebook/bin/../lib/gcc/x86_64-conda-linux-gnu/9.3.0/../../../../x86_64-conda-linux-gnu/include/c++/9.3.0/bits/stl_vector.h:507:7: note: candidate constructor not viable: requires at most 2 arguments, but 5 were provided\n",
      "      vector(size_type __n, const allocator_type& __a = allocator_type())\n",
      "      ^\n",
      "/srv/conda/envs/notebook/bin/../lib/gcc/x86_64-conda-linux-gnu/9.3.0/../../../../x86_64-conda-linux-gnu/include/c++/9.3.0/bits/stl_vector.h:572:7: note: candidate constructor not viable: requires 2 arguments, but 5 were provided\n",
      "      vector(const vector& __x, const allocator_type& __a)\n",
      "      ^\n",
      "/srv/conda/envs/notebook/bin/../lib/gcc/x86_64-conda-linux-gnu/9.3.0/../../../../x86_64-conda-linux-gnu/include/c++/9.3.0/bits/stl_vector.h:604:7: note: candidate constructor not viable: requires 2 arguments, but 5 were provided\n",
      "      vector(vector&& __rv, const allocator_type& __m)\n",
      "      ^\n",
      "/srv/conda/envs/notebook/bin/../lib/gcc/x86_64-conda-linux-gnu/9.3.0/../../../../x86_64-conda-linux-gnu/include/c++/9.3.0/bits/stl_vector.h:494:7: note: candidate constructor not viable: requires single argument '__a', but 5 arguments were provided\n",
      "      vector(const allocator_type& __a) _GLIBCXX_NOEXCEPT\n",
      "      ^\n",
      "/srv/conda/envs/notebook/bin/../lib/gcc/x86_64-conda-linux-gnu/9.3.0/../../../../x86_64-conda-linux-gnu/include/c++/9.3.0/bits/stl_vector.h:550:7: note: candidate constructor not viable: requires single argument '__x', but 5 arguments were provided\n",
      "      vector(const vector& __x)\n",
      "      ^\n",
      "/srv/conda/envs/notebook/bin/../lib/gcc/x86_64-conda-linux-gnu/9.3.0/../../../../x86_64-conda-linux-gnu/include/c++/9.3.0/bits/stl_vector.h:569:7: note: candidate constructor not viable: requires 1 argument, but 5 were provided\n",
      "      vector(vector&&) noexcept = default;\n",
      "      ^\n",
      "/srv/conda/envs/notebook/bin/../lib/gcc/x86_64-conda-linux-gnu/9.3.0/../../../../x86_64-conda-linux-gnu/include/c++/9.3.0/bits/stl_vector.h:484:7: note: candidate constructor not viable: requires 0 arguments, but 5 were provided\n",
      "      vector() = default;\n",
      "      ^\n"
     ]
    },
    {
     "ename": "Interpreter Error",
     "evalue": "",
     "output_type": "error",
     "traceback": [
      "Interpreter Error: "
     ]
    }
   ],
   "source": [
    "std::vector<int> v {0, 1, 2, 3, 4};\n",
    "std::cout << sum(v) << \"\\n\";"
   ]
  },
  {
   "cell_type": "markdown",
   "metadata": {
    "graffitiCellId": "id_st9b2ev"
   },
   "source": [
    "The distinction between `const` and `constexpr` is subtle. \n",
    "\n",
    "In general, though, `const` is much more common than `constexpr`.\n",
    "\n",
    "When in doubt, use `const`, especially to guard against accidentally modifying a variable."
   ]
  }
 ],
 "metadata": {
  "graffiti": {
   "firstAuthorId": "8802670962",
   "id": "id_zyhsveg",
   "language": "EN"
  },
  "kernelspec": {
   "display_name": "C++17",
   "language": "C++17",
   "name": "xcpp17"
  },
  "language_info": {
   "codemirror_mode": "text/x-c++src",
   "file_extension": ".cpp",
   "mimetype": "text/x-c++src",
   "name": "c++",
   "version": "17"
  }
 },
 "nbformat": 4,
 "nbformat_minor": 2
}
