{
 "cells": [
  {
   "cell_type": "markdown",
   "metadata": {
    "graffitiCellId": "id_r843k7j",
    "id": "Pbk7WC_UVa9C"
   },
   "source": [
    "# コンスタンツ\n",
    "\n",
    "この例では、実行時にしか評価できない変数であっても、それが変更されることがないようにするために `const` を使い方法を紹介します。\n",
    "\n",
    "この例では、`constexpr` を使用して、コンパイル時に確実に変数を評価する方法も示されています。"
   ]
  },
  {
   "cell_type": "code",
   "execution_count": 1,
   "metadata": {
    "graffitiCellId": "id_czkjnvo",
    "graffitiConfig": {
     "executeCellViaGraffiti": "9daoia7_p5h1y8n"
    },
    "id": "XZgHhSo7Va9D"
   },
   "outputs": [
    {
     "name": "stdout",
     "output_type": "stream",
     "text": [
      "iに整数値を入力する: as\n",
      "j = 0\n",
      "k = 3\n"
     ]
    }
   ],
   "source": [
    "#include <iostream>\n",
    "\n",
    "\n",
    "int i;\n",
    "std::cout << \"iに整数値を入力する: \";\n",
    "std::cin >> i;\n",
    "const int j = i * 2;  // \"jは実行時にしか評価できない。\"\n",
    "                      // \"しかし、初期化された後には変更しない。\"\n",
    "\n",
    "constexpr int k = 3;  // それは対照的に kは、コンパイル時に評価できる。\"\n",
    "\n",
    "std::cout << \"j = \" << j << \"\\n\";\n",
    "std::cout << \"k = \" << k << \"\\n\";"
   ]
  },
  {
   "cell_type": "markdown",
   "metadata": {
    "graffitiCellId": "id_hzyfm2o",
    "id": "YlLCHv1xVa9E"
   },
   "source": [
    "コンパイラは 変動する`const` 変数を把握します。"
   ]
  },
  {
   "cell_type": "code",
   "execution_count": 2,
   "metadata": {
    "graffitiCellId": "id_mdc5rul",
    "graffitiConfig": {
     "executeCellViaGraffiti": "zpsfp04_vd4pmdf"
    },
    "id": "xx3281vWVa9F"
   },
   "outputs": [
    {
     "name": "stderr",
     "output_type": "stream",
     "text": [
      "input_line_9:3:2: error: cannot assign to variable 'i' with const-qualified type 'const int'\n",
      "i++;             // \"私は約束を破ってしまった。\"\n",
      "~^\n",
      "input_line_9:2:12: note: variable 'i' declared const here\n",
      " const int i = 2; // \"私はこれを変更しないと約束する。\"\n",
      " ~~~~~~~~~~^~~~~\n"
     ]
    },
    {
     "ename": "Interpreter Error",
     "evalue": "",
     "output_type": "error",
     "traceback": [
      "Interpreter Error: "
     ]
    }
   ],
   "source": [
    "const int i = 2; // \"私はこれを変更しないと約束する。\"\n",
    "i++;             // \"私は約束を破ってしまった。\"\n"
   ]
  },
  {
   "cell_type": "markdown",
   "metadata": {
    "graffitiCellId": "id_o8apmhd",
    "id": "qBHu_lWqVa9F"
   },
   "source": [
    "同様に、コンパイラは変動する `constexpr` 変数を把握します。"
   ]
  },
  {
   "cell_type": "code",
   "execution_count": 3,
   "metadata": {
    "graffitiCellId": "id_vwm5y93",
    "graffitiConfig": {
     "executeCellViaGraffiti": "6cm8alc_ampzw92"
    },
    "id": "gqf54XKyVa9F"
   },
   "outputs": [
    {
     "name": "stderr",
     "output_type": "stream",
     "text": [
      "input_line_10:3:2: error: cannot assign to variable 'i' with const-qualified type 'const int'\n",
      "i++;                  // \"しかし、constexpr 変数を変変えるとエラーになる。\"\n",
      "~^\n",
      "input_line_10:2:16: note: variable 'i' declared const here\n",
      " constexpr int i = 2;  // \"i はコンパイル時に評価できる。\"\n",
      " ~~~~~~~~~~~~~~^~~~~\n"
     ]
    },
    {
     "ename": "Interpreter Error",
     "evalue": "",
     "output_type": "error",
     "traceback": [
      "Interpreter Error: "
     ]
    }
   ],
   "source": [
    "constexpr int i = 2;  // \"i はコンパイル時に評価できる。\"\n",
    "i++;                  // \"しかし、constexpr 変数を変変えるとエラーになる。\""
   ]
  },
  {
   "cell_type": "markdown",
   "metadata": {
    "graffitiCellId": "id_j1tbt1a",
    "id": "NsCkHJy6Va9G"
   },
   "source": [
    "`const` と `constexpr` の分かりやすい違いは、`constexpr` はコンパイル時に評価されなければならない点です。\n",
    "\n",
    "コンパイラは、コンパイル時に評価できない `constexpr` 変数を把握します。"
   ]
  },
  {
   "cell_type": "code",
   "execution_count": 4,
   "metadata": {
    "graffitiCellId": "id_ljgezkm",
    "graffitiConfig": {
     "executeCellViaGraffiti": "oc4cka0_6bvce88"
    },
    "id": "GGzKwJohVa9G"
   },
   "outputs": [
    {
     "name": "stderr",
     "output_type": "stream",
     "text": [
      "input_line_12:5:15: error: constexpr variable 'j' must be initialized by a constant expression\n",
      "constexpr int j = i * 2;  // \"j は実行時にのみ評価される。\"\n",
      "              ^   ~~~~~\n",
      "input_line_12:5:19: note: read of non-const variable 'i' is not allowed in a constant expression\n",
      "constexpr int j = i * 2;  // \"j は実行時にのみ評価される。\"\n",
      "                  ^\n",
      "input_line_12:2:6: note: declared here\n",
      " int i;\n",
      "     ^\n"
     ]
    },
    {
     "ename": "Interpreter Error",
     "evalue": "",
     "output_type": "error",
     "traceback": [
      "Interpreter Error: "
     ]
    }
   ],
   "source": [
    "#include <iostream>\n",
    "\n",
    "\n",
    "int i;\n",
    "std::cout << \"iの整数値を入力:\";\n",
    "std::cin >> i;\n",
    "constexpr int j = i * 2;  // \"j は実行時にのみ評価される。\"\n",
    "                          // \"constexpr はコンパイル時に評価されなければならない。\"\n",
    "                          // \"よってこのコードはコンパイルエラーになる。\""
   ]
  },
  {
   "cell_type": "markdown",
   "metadata": {
    "graffitiCellId": "id_49699vw",
    "id": "ses75mBoVa9G"
   },
   "source": [
    "`const`の一般的な使い方は、変数が、特に関数の引数として参照渡しされる場合に、誤って変更されないよう保護することです。\n"
   ]
  },
  {
   "cell_type": "code",
   "execution_count": null,
   "metadata": {
    "id": "Jn0cUQBl3tKB"
   },
   "outputs": [],
   "source": [
    "#include <iostream>\n",
    "#include <vector>\n",
    "using std::vector;\n",
    "using std::cout;\n",
    "vector<int> v;"
   ]
  },
  {
   "cell_type": "code",
   "execution_count": null,
   "metadata": {
    "id": "SMFKjZX43uDX"
   },
   "outputs": [],
   "source": [
    "int sum(const vector<int> &v)\n",
    "{\n",
    "    int sum = 0;\n",
    "    for(int i : v)\n",
    "        sum += i;\n",
    "    return sum;\n",
    "}"
   ]
  },
  {
   "cell_type": "code",
   "execution_count": null,
   "metadata": {
    "graffitiCellId": "id_fkbtwee",
    "graffitiConfig": {
     "executeCellViaGraffiti": "q3f958n_imkk2gs"
    },
    "id": "46XfX84VVa9H"
   },
   "outputs": [],
   "source": [
    "\n",
    "std::vector<int> v {0, 1, 2, 3, 4};\n",
    "std::cout << sum(v) << \"\\n\";"
   ]
  },
  {
   "cell_type": "markdown",
   "metadata": {
    "graffitiCellId": "id_st9b2ev",
    "id": "lgacr4AMVa9H"
   },
   "source": [
    "`const`と`constexpr` の違いは僅かです。\n",
    "\n",
    "しかし一般的には、 `const` が `constexpr` よりも頻繁に使われます。\n",
    "\n",
    "よく分からない場合は、誤って変数を変更してしないためにも、`const` を使用してください。"
   ]
  }
 ],
 "metadata": {
  "colab": {
   "collapsed_sections": [],
   "name": "Constants.ipynb",
   "provenance": []
  },
  "graffiti": {
   "firstAuthorId": "8802670962",
   "id": "id_zyhsveg",
   "language": "EN"
  },
  "kernelspec": {
   "display_name": "C++17",
   "language": "C++17",
   "name": "xcpp17"
  },
  "language_info": {
   "codemirror_mode": "text/x-c++src",
   "file_extension": ".cpp",
   "mimetype": "text/x-c++src",
   "name": "c++",
   "version": "17"
  }
 },
 "nbformat": 4,
 "nbformat_minor": 1
}
