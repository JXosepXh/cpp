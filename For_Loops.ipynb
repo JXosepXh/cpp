{
 "cells": [
  {
   "cell_type": "markdown",
   "metadata": {
    "graffitiCellId": "id_6kw0o7t"
   },
   "source": [
    "## For Loop with an Index Variable\n",
    "\n",
    "A simple `for` loop using an index variable has the following syntax. Click the button below for an explanation of the different parts."
   ]
  },
  {
   "cell_type": "code",
   "execution_count": 1,
   "metadata": {
    "graffitiCellId": "id_383fc47",
    "graffitiConfig": {
     "executeCellViaGraffiti": "5gfgm4h_pikhrjh"
    }
   },
   "outputs": [],
   "source": [
    "#include <iostream>\n",
    "using std::cout;"
   ]
  },
  {
   "cell_type": "code",
   "execution_count": 2,
   "metadata": {},
   "outputs": [
    {
     "name": "stdout",
     "output_type": "stream",
     "text": [
      "0\n",
      "1\n",
      "2\n",
      "3\n",
      "4\n"
     ]
    }
   ],
   "source": [
    "for (int i=0; i < 5; i++) {\n",
    "  cout << i << \"\\n\";\n",
    "}"
   ]
  },
  {
   "cell_type": "markdown",
   "metadata": {
    "graffitiCellId": "id_6rh46ch"
   },
   "source": [
    "### The Increment Operator\n",
    "\n",
    "If you haven't seen the `++` operator before, this is the *post-increment operator*, and it is where the `++` in the name \"C++\" comes from. The operator increments the value of `i`. \n",
    "\n",
    "There is also a *pre-increment operator* which is used before a variable, as well as *pre* and *post decrement* operators: `--`. The difference between *pre* and *post* lies in what value is returned by the operator when it is used.\n",
    "\n",
    "You will only use the *post-increment operator* `i++` for now, but if you are curious, click below for an explanation of the code:"
   ]
  },
  {
   "cell_type": "code",
   "execution_count": 3,
   "metadata": {
    "graffitiCellId": "id_jchnher",
    "graffitiConfig": {
     "executeCellViaGraffiti": "5tb0qej_8qh4e7h"
    }
   },
   "outputs": [
    {
     "name": "stdout",
     "output_type": "stream",
     "text": [
      "Post-increment example:\n",
      "The value of c is: 1\n",
      "The value of i is: 2\n",
      "\n",
      "Pre-increment example:\n",
      "The value of c is: 2\n",
      "The value of i is: 2\n",
      "\n",
      "Decrement example:\n",
      "The value of i is: 1\n"
     ]
    }
   ],
   "source": [
    "#include <iostream>\n",
    "using std::cout;\n",
    "\n",
    "\n",
    "auto i = 1;\n",
    "\n",
    "// Post-increment assigns i to c and then increments i.\n",
    "auto c = i++;\n",
    "\n",
    "cout << \"Post-increment example:\" << \"\\n\";\n",
    "cout << \"The value of c is: \" << c << \"\\n\";\n",
    "cout << \"The value of i is: \" << i << \"\\n\";\n",
    "cout << \"\\n\";\n",
    "\n",
    "// Reset i to 1.\n",
    "i = 1;\n",
    "\n",
    "// Pre-increment increments i, then assigns to c.\n",
    "c = ++i;\n",
    "\n",
    "cout << \"Pre-increment example:\" << \"\\n\";\n",
    "cout << \"The value of c is: \" << c << \"\\n\";\n",
    "cout << \"The value of i is: \" << i << \"\\n\";\n",
    "cout << \"\\n\";\n",
    "\n",
    "// Decrement i;\n",
    "i--;\n",
    "cout << \"Decrement example:\" << \"\\n\";\n",
    "cout << \"The value of i is: \" << i << \"\\n\";"
   ]
  },
  {
   "cell_type": "markdown",
   "metadata": {
    "graffitiCellId": "id_ej18kho"
   },
   "source": [
    "### Practice\n",
    "Before you learn how to write a `for` loop using an iterator, practice writing a for loop that prints values from `-3` through `10` in the cell below. Don't forget to assign an initial value (like 0) to your index variable!"
   ]
  },
  {
   "cell_type": "code",
   "execution_count": 5,
   "metadata": {
    "graffitiCellId": "id_k1hwy9p",
    "graffitiConfig": {
     "executeCellViaGraffiti": "qmbadzm_c0w568j"
    }
   },
   "outputs": [],
   "source": [
    "#include <iostream>\n",
    "using std::cout;\n",
    "\n",
    "\n",
    "// Add your code here."
   ]
  },
  {
   "cell_type": "markdown",
   "metadata": {
    "graffitiCellId": "id_jy4mmcj"
   },
   "source": [
    "## For Loop with a Container\n",
    "\n",
    "C++ offers several ways to iterate over containers. One way is to use an index-based loop as above. Another way is using a \"range-based loop\", which you will see frequently in the rest of this course. See the following code for an example of how this works:"
   ]
  },
  {
   "cell_type": "code",
   "execution_count": 6,
   "metadata": {
    "graffitiCellId": "id_mmio8fj",
    "graffitiConfig": {
     "executeCellViaGraffiti": "g8agb3x_74t3sea"
    }
   },
   "outputs": [
    {
     "name": "stdout",
     "output_type": "stream",
     "text": [
      "1\n",
      "2\n",
      "3\n",
      "4\n",
      "5\n"
     ]
    }
   ],
   "source": [
    "#include <iostream>\n",
    "#include <vector>\n",
    "using std::cout;\n",
    "using std::vector;\n",
    "\n",
    "vector<int> a {1, 2, 3, 4, 5};\n",
    "for (int i: a) {\n",
    "    cout << i << \"\\n\";\n",
    "}"
   ]
  },
  {
   "cell_type": "markdown",
   "metadata": {
    "graffitiCellId": "id_1q91pk5"
   },
   "source": [
    "### Challenge\n",
    "\n",
    "In the next cell, try to write a double range-based for loop that prints all of the entries of the 2D vector `b`. If you get stuck, click on the solution button for an explanation."
   ]
  },
  {
   "cell_type": "code",
   "execution_count": 7,
   "metadata": {
    "graffitiCellId": "id_mi6aubf",
    "graffitiConfig": {
     "executeCellViaGraffiti": "l71p7sp_7htbuzz"
    }
   },
   "outputs": [],
   "source": [
    "#include <iostream>\n",
    "#include <vector>\n",
    "using std::cout;\n",
    "using std::vector;\n",
    "\n",
    "\n",
    "vector<vector<int>> b {{1, 2},\n",
    "                       {3, 4},\n",
    "                       {5, 6}};\n",
    "\n",
    "// Write your double loop here."
   ]
  }
 ],
 "metadata": {
  "graffiti": {
   "firstAuthorId": "10467858656",
   "id": "id_ikelrdx",
   "language": "EN"
  },
  "kernelspec": {
   "display_name": "C++17",
   "language": "C++17",
   "name": "xcpp17"
  },
  "language_info": {
   "codemirror_mode": "text/x-c++src",
   "file_extension": ".cpp",
   "mimetype": "text/x-c++src",
   "name": "c++",
   "version": "17"
  },
  "udacity": {
   "header": {
    "hidden": true
   },
   "menubar": {
    "hidden_menus": [
     "edit",
     "view",
     "insert",
     "cell",
     "kernel",
     "widgets",
     "help"
    ]
   },
   "toolbar": {
    "hidden": true
   }
  }
 },
 "nbformat": 4,
 "nbformat_minor": 2
}
