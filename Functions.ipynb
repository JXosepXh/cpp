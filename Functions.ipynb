{
 "cells": [
  {
   "cell_type": "markdown",
   "metadata": {
    "graffitiCellId": "id_u897ztr",
    "id": "37smC76vruN5"
   },
   "source": [
    "## 関数\n",
    "\n",
    "下のセルには、2つの数字を加算して結果を返す簡単な関数があります。以下のコードを試してみましょう。ボタンをクリックすると、より詳しい説明が表示されます。"
   ]
  },
  {
   "cell_type": "code",
   "execution_count": 1,
   "metadata": {
    "id": "qrpEsDmHwBAF"
   },
   "outputs": [],
   "source": [
    "#include <iostream>\n",
    "using std::cout;"
   ]
  },
  {
   "cell_type": "code",
   "execution_count": 2,
   "metadata": {
    "id": "jTvoxt9swCK-"
   },
   "outputs": [],
   "source": [
    "\n",
    "// 関数がここで宣言され定義される。\n",
    "int AdditionFunction(int i, int j) \n",
    "{\n",
    "    return i + j;\n",
    "}"
   ]
  },
  {
   "cell_type": "code",
   "execution_count": 3,
   "metadata": {
    "graffitiCellId": "id_nmbcnev",
    "graffitiConfig": {
     "executeCellViaGraffiti": "hsqvaql_ftup8pz"
    },
    "id": "EwIen4B8ruN7"
   },
   "outputs": [
    {
     "name": "stdout",
     "output_type": "stream",
     "text": [
      "10\n"
     ]
    }
   ],
   "source": [
    "auto d = 3;\n",
    "auto f = 7;\n",
    "cout << AdditionFunction(d, f) << \"\\n\";"
   ]
  },
  {
   "cell_type": "markdown",
   "metadata": {
    "graffitiCellId": "id_6wrb742",
    "id": "Lb_JFfBiruN-"
   },
   "source": [
    "### 演習\n",
    "\n",
    "関数を定義して呼び出す方法を見ましたが、もう少し複雑な例を、下のセルで実際に試してみましょう。関数は `int`の`vector`を引数として受け取り、そのベクターに含まれるすべての`int`の合計を返します。行き詰まったら、Show Solution（回答）ボタンをクリックしてヘルプを参照してください。"
   ]
  },
  {
   "cell_type": "code",
   "execution_count": 4,
   "metadata": {
    "graffitiCellId": "id_5ieplmp",
    "graffitiConfig": {
     "executeCellViaGraffiti": "it918co_jw76vce"
    },
    "id": "vK6THKyZruN_"
   },
   "outputs": [],
   "source": [
    "#include <iostream>\n",
    "#include <vector>\n",
    "using std::cout;\n",
    "using std::vector;\n",
    "\n",
    "// ここで関数 \"AdditionFunction \"を定義する。\n",
    "// この関数は、2つの int の代わりに、ベクター <int> を引数として受け取り、\n",
    "// ベクター内のすべてのintの合計を返す。\n",
    "\n",
    "\n",
    "vector<int> v {1, 2, 3};\n",
    "\n",
    "// 次の行のコメントを外して、関数を呼び出す:\n",
    "//cout << AdditionFunction(v) << \"\\n\";\n"
   ]
  },
  {
   "cell_type": "markdown",
   "metadata": {
    "graffitiCellId": "id_zzx6952",
    "id": "30BjnA4WruOD"
   },
   "source": [
    "## Void 戻り値の型\n",
    "\n",
    "関数が何も返さなくてもいい場合があります。例えば，関数に渡されたオブジェクトを単純に変更したり、ターミナルにプリントしたりする場合です。関数が値を返す必要がない場合、戻り値の型として void 型を使用します。上記の関数の構文を使って、2つの文字列を引数にとり、その両方を印刷する関数 PrintStrings を書いてみましょう。もし問題があれば、回答ボタンをクリックしてヘルプを参照してください。\n"
   ]
  },
  {
   "cell_type": "code",
   "execution_count": 5,
   "metadata": {
    "graffitiCellId": "id_bpqmkjz",
    "graffitiConfig": {
     "executeCellViaGraffiti": "dftipdv_sy0f7po"
    },
    "id": "TQoG7CfiruOE"
   },
   "outputs": [
    {
     "name": "stderr",
     "output_type": "stream",
     "text": [
      "input_line_14:8:1: error: use of undeclared identifier 'PrintStrings'\n",
      "PrintStrings(s1, s2);\n",
      "^\n"
     ]
    },
    {
     "ename": "Interpreter Error",
     "evalue": "",
     "output_type": "error",
     "traceback": [
      "Interpreter Error: "
     ]
    }
   ],
   "source": [
    "#include <iostream>\n",
    "#include <string>\n",
    "using std::cout;\n",
    "using std::string;\n",
    "\n",
    "// ここにPrintStrings関数を書く。\n",
    "\n",
    "\n",
    "string s1 = \"C++ is \";\n",
    "string s2 = \"super awesome.\";\n",
    "\n",
    "// 次の行のコメントを外して、関数を呼び出す:\n",
    "//PrintStrings(s1, s2);\n"
   ]
  }
 ],
 "metadata": {
  "colab": {
   "collapsed_sections": [],
   "name": "Functions.ipynb",
   "provenance": []
  },
  "graffiti": {
   "firstAuthorId": "10467858656",
   "id": "id_ikelrdx",
   "language": "EN"
  },
  "kernelspec": {
   "display_name": "C++17",
   "language": "C++17",
   "name": "xcpp17"
  },
  "language_info": {
   "codemirror_mode": "text/x-c++src",
   "file_extension": ".cpp",
   "mimetype": "text/x-c++src",
   "name": "c++",
   "version": "17"
  },
  "udacity": {
   "header": {
    "hidden": true
   },
   "menubar": {
    "hidden_menus": [
     "edit",
     "view",
     "insert",
     "cell",
     "kernel",
     "widgets",
     "help"
    ]
   },
   "toolbar": {
    "hidden": true
   }
  }
 },
 "nbformat": 4,
 "nbformat_minor": 1
}
