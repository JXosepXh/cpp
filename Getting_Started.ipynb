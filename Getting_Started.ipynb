{
 "cells": [
  {
   "cell_type": "markdown",
   "metadata": {
    "graffitiCellId": "id_eyx8f4t"
   },
   "source": [
    "# Notebook Workspace\n",
    "\n",
    "This page is displayed in a Jupyter Notebook. The Notebook is interactive, so you will be able to execute code cells. \n",
    "\n",
    "In order to compile and run a program: \n",
    "1. Save your code by clicking the \"Save main.cpp\" button. This will save your code to the file \"main.cpp\".\n",
    "2. Compile your program by typing `g++ main.cpp`. This uses the [g++](https://gcc.gnu.org/onlinedocs/gcc-4.2.4/gcc/G_002b_002b-and-GCC.html) compiler to compile your source code and create an executable file.\n",
    "3. Run your program by typing `./a.out`. This runs the executable file that the compiler created (`a.out`) within the context of the current directory (`./`).\n",
    "\n",
    "<span class=\"graffiti-highlight graffiti-id_eyx8f4t-id_ularsnh\"><i></i>Click here to watch me perform these steps on the code below!</span>"
   ]
  },
  {
   "cell_type": "code",
   "execution_count": null,
   "metadata": {
    "graffitiCellId": "id_r4z793f"
   },
   "outputs": [],
   "source": [
    "#include <iostream>\n",
    "using namespace std;\n",
    "\n",
    "\n",
    "cout << \"Hello World!\\n\";\n"
   ]
  },
  {
   "cell_type": "markdown",
   "metadata": {
    "graffitiCellId": "id_8nc35il"
   },
   "source": [
    "Notebooks also allow for Graffiti, which are pop-up explanations and video demonstrations within the notebook. These are indicated in both the text and in code with green dashed underlining and a green marker on the right side of the notebook. Test out the Graffiti functionality by hovering over the `namespace` code above or **click here**!"
   ]
  },
  {
   "cell_type": "markdown",
   "metadata": {
    "graffitiCellId": "id_u897ztr"
   },
   "source": [
    "## Your First Exercise"
   ]
  },
  {
   "cell_type": "markdown",
   "metadata": {
    "graffitiCellId": "id_6i4919h"
   },
   "source": [
    "In this exercise, you will write your first C++ program! In C++, every program contains a `main` function which is executed automatically when the program is run. Every part of a C++ program is run directly or indirectly from `main`, and the most basic program that will compile in C++ is just a `main` function with nothing else.\n",
    "\n",
    "`main()` should return an integer  (an `int` in C++), which indicates if the program exited successfully. This is specified in code by writing the return type, followed by the `main` function name, followed by empty arguments:\n",
    "```cpp\n",
    "int main()\n",
    "```\n",
    "The body of the `main()`, which comes after the function name and arguments, is enclosed in curly brackets: `{` and `}`. In this exercise, you will write the smallest possible C++ program, which is a `main` function with _empty_ body. If you have trouble, click the solution button below.\n",
    "\n",
    "Remember that you can compile and run your program with the following:\n",
    "1. Save the `main.cpp` file.\n",
    "2. To compile, use the following command: `g++ main.cpp`\n",
    "3. To run, use: `./a.out`\n",
    "\n",
    "## To Complete This Exercise:\n",
    "> - Write a main function in the `main.cpp` file below, and then compile and run the program. The program will not have any output, but it should compile and run without errors.\n"
   ]
  },
  {
   "cell_type": "code",
   "execution_count": null,
   "metadata": {
    "graffitiCellId": "id_vxngc30"
   },
   "outputs": [],
   "source": [
    "// Put your code here\n"
   ]
  }
 ],
 "metadata": {
  "graffiti": {
   "firstAuthorId": "10467858656",
   "id": "id_ikelrdx",
   "language": "EN"
  },
  "kernelspec": {
   "display_name": "C++17",
   "language": "C++17",
   "name": "xeus-cling-cpp17"
  },
  "language_info": {
   "codemirror_mode": "text/x-c++src",
   "file_extension": ".cpp",
   "mimetype": "text/x-c++src",
   "name": "c++",
   "version": "-std=c++17"
  }
 },
 "nbformat": 4,
 "nbformat_minor": 2
}
