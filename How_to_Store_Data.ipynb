{
 "cells": [
  {
   "cell_type": "markdown",
   "metadata": {
    "graffitiCellId": "id_59ioypd"
   },
   "source": [
    "## Primitive types\n",
    "\n",
    "C++ has several \"primitive\" variable types, which are things like `ints` (integers), `string`s, `float`s, and others. These should be similar to variable types in other programming languages you have used. "
   ]
  },
  {
   "cell_type": "markdown",
   "metadata": {
    "graffitiCellId": "id_lyntt03"
   },
   "source": [
    "**Note:** In the cells below, variables will be declared and values assigned. In C++, once a variable has been declared, it can not be redeclared in the same scope. This means that if you try to declare a variable twice in the same function, you will see an error."
   ]
  },
  {
   "cell_type": "code",
   "execution_count": null,
   "metadata": {
    "graffitiCellId": "id_y66e4m7",
    "graffitiConfig": {
     "executeCellViaGraffiti": "cgwkwly_8cbygnp"
    }
   },
   "outputs": [],
   "source": [
    "#include <iostream>\n",
    "#include <string>\n",
    "using std::cout;\n",
    "\n",
    "int main() {\n",
    "    // Declaring and initializing an int variable.\n",
    "    int a = 9;\n",
    "    \n",
    "    // Declaring a string variable without initializing right away.\n",
    "    std::string b;\n",
    "    \n",
    "    // Initializing the string b.\n",
    "    b = \"Here is a string\";\n",
    "    \n",
    "    cout << a << \"\\n\";\n",
    "    cout << b << \"\\n\";\n",
    "}\n"
   ]
  },
  {
   "cell_type": "markdown",
   "metadata": {
    "graffitiCellId": "id_cgwkwly"
   },
   "source": [
    "<span class=\"graffiti-highlight graffiti-id_cgwkwly-id_8cbygnp\"><i></i><button>Run Code</button></span> &nbsp; <span class=\"graffiti-highlight graffiti-id_9mx3les-id_36zuqfd\"><i></i><button>See Explanation</button></span>"
   ]
  },
  {
   "cell_type": "markdown",
   "metadata": {
    "graffitiCellId": "id_ur1bp7e",
    "graffitiConfig": {
     "rows": 6,
     "terminalId": "id_ur1bp7e",
     "type": "terminal"
    }
   },
   "source": [
    "<i>Loading terminal (id_ur1bp7e), please wait...</i>"
   ]
  },
  {
   "cell_type": "markdown",
   "metadata": {
    "graffitiCellId": "id_ztusej3"
   },
   "source": [
    "### Practice\n",
    "\n",
    "Practice declaring an `int` with the name `j` in the cell below and assing the value `10` to `j`."
   ]
  },
  {
   "cell_type": "code",
   "execution_count": null,
   "metadata": {
    "graffitiCellId": "id_dlkgsno",
    "graffitiConfig": {
     "executeCellViaGraffiti": "bzw649j_szy3b0r"
    }
   },
   "outputs": [],
   "source": [
    "#include <iostream>\n",
    "#include <string>\n",
    "using std::cout;\n",
    "\n",
    "int main() {\n",
    "    // Declare and initialize j here.\n",
    "}\n"
   ]
  },
  {
   "cell_type": "markdown",
   "metadata": {
    "graffitiCellId": "id_bzw649j"
   },
   "source": [
    "<span class=\"graffiti-highlight graffiti-id_bzw649j-id_szy3b0r\"><i></i><button>Run Code</button></span> &nbsp;  <span class=\"graffiti-highlight graffiti-id_3dx6dpe-id_l2zpp14\"><i></i><button>Show Solution</button></span>"
   ]
  },
  {
   "cell_type": "markdown",
   "metadata": {
    "graffitiCellId": "id_b73ssr8",
    "graffitiConfig": {
     "rows": 6,
     "terminalId": "id_b73ssr8",
     "type": "terminal"
    }
   },
   "source": [
    "<i>Loading terminal (id_b73ssr8), please wait...</i>"
   ]
  },
  {
   "cell_type": "markdown",
   "metadata": {
    "graffitiCellId": "id_ydb7da9"
   },
   "source": [
    "## Vector Containers\n",
    "\n",
    "### 1D Vectors\n",
    "\n",
    "C++ also has several container types that can be used for storing data. We will start with `vector`s, as these will be used throughout this lesson, but we will also introduce other container types as needed.\n",
    "\n",
    "Vectors are a sequence of elements of a single type, and have useful methods for getting the size, testing if the vector is empty, and adding elements to the vector."
   ]
  },
  {
   "cell_type": "code",
   "execution_count": null,
   "metadata": {
    "graffitiCellId": "id_qx41jvw",
    "graffitiConfig": {
     "executeCellViaGraffiti": "svhywhq_eirdqbh"
    }
   },
   "outputs": [],
   "source": [
    "#include <iostream>\n",
    "#include <vector>\n",
    "using std::vector;\n",
    "using std::cout;\n",
    "\n",
    "int main() {\n",
    "    // Three ways of declaring and initializing vectors.\n",
    "    vector<int> v_1{0, 1, 2};\n",
    "    vector<int> v_2 = {3, 4, 5};\n",
    "    vector<int> v_3;\n",
    "    v_3 = {6};\n",
    "    cout << \"Everything worked!\" << \"\\n\";\n",
    "}"
   ]
  },
  {
   "cell_type": "markdown",
   "metadata": {
    "graffitiCellId": "id_svhywhq"
   },
   "source": [
    "<span class=\"graffiti-highlight graffiti-id_svhywhq-id_eirdqbh\"><i></i><button>Run Code</button></span> &nbsp; <span class=\"graffiti-highlight graffiti-id_nv3cn8t-id_54yvxv4\"><i></i><button>See Explanation</button></span>"
   ]
  },
  {
   "cell_type": "markdown",
   "metadata": {
    "graffitiCellId": "id_9fyyahs",
    "graffitiConfig": {
     "rows": 6,
     "terminalId": "id_9fyyahs",
     "type": "terminal"
    }
   },
   "source": [
    "<i>Loading terminal (id_9fyyahs), please wait...</i>"
   ]
  },
  {
   "cell_type": "markdown",
   "metadata": {
    "graffitiCellId": "id_gj93sl5"
   },
   "source": [
    "### 2D Vectors\n",
    "Unfortunately, there isn't a built-in way to print vectors in C++ using `cout`. You will learn how to access vector elements and you will write your own function to print vectors later. For now, you can see how vectors are created and stored. Below, you can see how to nest vectors to create 2D containers."
   ]
  },
  {
   "cell_type": "code",
   "execution_count": null,
   "metadata": {
    "graffitiCellId": "id_k4urhee",
    "graffitiConfig": {
     "executeCellViaGraffiti": "cn1rczn_gpkl4m8"
    }
   },
   "outputs": [],
   "source": [
    "#include <iostream>\n",
    "#include <vector>\n",
    "using std::vector;\n",
    "using std::cout;\n",
    "\n",
    "int main() {\n",
    "    // Creating a 2D vector.\n",
    "    vector<vector<int>> v {{1,2}, {3,4}};\n",
    "    cout << \"Great! A 2D vector has been created.\" << \"\\n\";\n",
    "}"
   ]
  },
  {
   "cell_type": "markdown",
   "metadata": {
    "graffitiCellId": "id_cn1rczn"
   },
   "source": [
    "<span class=\"graffiti-highlight graffiti-id_cn1rczn-id_gpkl4m8\"><i></i><button>Run Code</button></span> &nbsp; <span class=\"graffiti-highlight graffiti-id_glo0dp4-id_d6orvrp\"><i></i><button>See Explanation</button></span>"
   ]
  },
  {
   "cell_type": "markdown",
   "metadata": {
    "graffitiCellId": "id_zi55r7y",
    "graffitiConfig": {
     "rows": 6,
     "terminalId": "id_zi55r7y",
     "type": "terminal"
    }
   },
   "source": [
    "<i>Loading terminal (id_zi55r7y), please wait...</i>"
   ]
  },
  {
   "cell_type": "markdown",
   "metadata": {
    "graffitiCellId": "id_c43z593"
   },
   "source": [
    "### Practice\n",
    "\n",
    "Practice declaring a `vector<int>` in the cell below, and assign the value `{6, 7, 8}`."
   ]
  },
  {
   "cell_type": "code",
   "execution_count": null,
   "metadata": {
    "graffitiCellId": "id_tsxegfd",
    "graffitiConfig": {
     "executeCellViaGraffiti": "1a1nu2i_5mgzhjx"
    }
   },
   "outputs": [],
   "source": [
    "#include <iostream>\n",
    "#include <vector>\n",
    "using std::vector;\n",
    "using std::cout;\n",
    "\n",
    "int main() {\n",
    "    // Declare and initialize a vector v here.\n",
    "    \n",
    "}"
   ]
  },
  {
   "cell_type": "markdown",
   "metadata": {
    "graffitiCellId": "id_1a1nu2i"
   },
   "source": [
    "<span class=\"graffiti-highlight graffiti-id_1a1nu2i-id_5mgzhjx\"><i></i><button>Run Code</button></span> &nbsp; <span class=\"graffiti-highlight graffiti-id_u6mv6hy-id_da9q9gf\"><i></i><button>Show Solution</button></span>"
   ]
  },
  {
   "cell_type": "markdown",
   "metadata": {
    "graffitiCellId": "id_o8p0gry",
    "graffitiConfig": {
     "rows": 6,
     "terminalId": "id_o8p0gry",
     "type": "terminal"
    }
   },
   "source": [
    "<i>Loading terminal (id_o8p0gry), please wait...</i>"
   ]
  },
  {
   "cell_type": "markdown",
   "metadata": {
    "graffitiCellId": "id_jivhlnf"
   },
   "source": [
    "## Using `auto`\n",
    "\n",
    "In the cells above, the type for each variable was explicitly declared. In general, this is not necessary, and the compiler can determine the type based on the value being assigned. To have the type automatically determined, use the `auto` keyword. You can test this by executing the cell below:"
   ]
  },
  {
   "cell_type": "code",
   "execution_count": null,
   "metadata": {
    "graffitiCellId": "id_gqunxrt",
    "graffitiConfig": {
     "executeCellViaGraffiti": "sncbyc3_2dv9dig"
    }
   },
   "outputs": [],
   "source": [
    "#include <iostream>\n",
    "#include <vector>\n",
    "using std::vector;\n",
    "using std::cout;\n",
    "\n",
    "int main() {\n",
    "    auto i = 5;\n",
    "    auto v_6 = {1, 2, 3};\n",
    "    cout << \"Variables declared and initialized without explicitly stating type!\" << \"\\n\";\n",
    "}"
   ]
  },
  {
   "cell_type": "markdown",
   "metadata": {
    "graffitiCellId": "id_sncbyc3"
   },
   "source": [
    "<span class=\"graffiti-highlight graffiti-id_sncbyc3-id_2dv9dig\"><i></i><button>Run Code</button></span> &nbsp; <span class=\"graffiti-highlight graffiti-id_lk6s1et-id_3s1kcdz\"><i></i><button>See Explanation</button></span>"
   ]
  },
  {
   "cell_type": "markdown",
   "metadata": {
    "graffitiCellId": "id_kyiq0u0",
    "graffitiConfig": {
     "rows": 6,
     "terminalId": "id_kyiq0u0",
     "type": "terminal"
    }
   },
   "source": [
    "<i>Loading terminal (id_kyiq0u0), please wait...</i>"
   ]
  },
  {
   "cell_type": "markdown",
   "metadata": {
    "graffitiCellId": "id_3uyhatw"
   },
   "source": [
    "It is helpful to manually declare the type of a variable if you want the variable type to be clear for reader of your code, or if you want to be explicit about the number precision being used; C++ has several number types with different levels of precision, and this precision might not be clear from the value being assigned.\n",
    "\n",
    "### Practice\n",
    "\n",
    "Practice using `auto` to declare and initialize a vector `v` with the value `{7, 8, 9, 10}`. If you have trouble, **click here** for help."
   ]
  },
  {
   "cell_type": "code",
   "execution_count": null,
   "metadata": {
    "graffitiCellId": "id_mea01kd",
    "graffitiConfig": {
     "executeCellViaGraffiti": "0kha04l_0o02q6z"
    }
   },
   "outputs": [],
   "source": [
    "#include <iostream>\n",
    "#include <vector>\n",
    "using std::vector;\n",
    "using std::cout;\n",
    "\n",
    "int main() {\n",
    "    // Declare and initialize v using auto here.\n",
    "\n",
    "}"
   ]
  },
  {
   "cell_type": "markdown",
   "metadata": {
    "graffitiCellId": "id_0kha04l"
   },
   "source": [
    "<span class=\"graffiti-highlight graffiti-id_0kha04l-id_0o02q6z\"><i></i><button>Run Code</button></span> &nbsp; <span class=\"graffiti-highlight graffiti-id_v0oa41m-id_h5mkj8x\"><i></i><button>Show Solution</button></span>"
   ]
  },
  {
   "cell_type": "markdown",
   "metadata": {
    "graffitiCellId": "id_bcpm0a9",
    "graffitiConfig": {
     "rows": 6,
     "terminalId": "id_bcpm0a9",
     "type": "terminal"
    }
   },
   "source": [
    "<i>Loading terminal (id_bcpm0a9), please wait...</i>"
   ]
  },
  {
   "cell_type": "markdown",
   "metadata": {
    "graffitiCellId": "id_wunzvyj"
   },
   "source": [
    "## On to an Exercise\n",
    "\n",
    "Now that you have seen some exposure to variables and containers, test your knowledge in the next exercise! Before you go, be sure to have a careful look at the 2D vector example right above, as you'll need this for the exercise."
   ]
  }
 ],
 "metadata": {
  "graffiti": {
   "firstAuthorId": "813558546",
   "id": "id_ngrn6v8",
   "language": "EN"
  },
  "kernelspec": {
   "display_name": "C++17",
   "language": "C++17",
   "name": "xeus-cling-cpp17"
  },
  "language_info": {
   "codemirror_mode": "text/x-c++src",
   "file_extension": ".cpp",
   "mimetype": "text/x-c++src",
   "name": "c++",
   "version": "-std=c++17"
  }
 },
 "nbformat": 4,
 "nbformat_minor": 2
}
