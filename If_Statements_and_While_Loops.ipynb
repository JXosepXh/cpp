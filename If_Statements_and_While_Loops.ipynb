{
 "cells": [
  {
   "cell_type": "markdown",
   "metadata": {
    "graffitiCellId": "id_zl3lknb"
   },
   "source": [
    "## If Statements\n",
    "\n",
    "C++ `if` statements work very similarly to if statements in other languages. In C++, the boolean condition is contained in parentheses `(` and `)`, and the body of the statement is enclosed in curly brackets `{` and `}`. \n",
    "\n",
    "Try executing the cell below. Once you have done that, initialize the variable `a` to `true` and execute the cell again:"
   ]
  },
  {
   "cell_type": "code",
   "execution_count": null,
   "metadata": {
    "graffitiCellId": "id_nf0hn24",
    "graffitiConfig": {
     "executeCellViaGraffiti": "4vec6td_4v6jw8g"
    }
   },
   "outputs": [],
   "source": [
    "#include <iostream>\n",
    "using std::cout;\n",
    "\n",
    "\n",
    "// Set a equal to true here.\n",
    "bool a = false;\n",
    "\n",
    "if (a) {\n",
    "  cout << \"Hooray! You made it into the if statement!\" << \"\\n\";\n",
    "}\n"
   ]
  },
  {
   "cell_type": "markdown",
   "metadata": {
    "graffitiCellId": "id_7ghut7f"
   },
   "source": [
    "## While Loops\n",
    "\n",
    "The syntax for a `while` loop looks very similar to the syntax for the `if` statement: "
   ]
  },
  {
   "cell_type": "code",
   "execution_count": null,
   "metadata": {
    "graffitiCellId": "id_npbqydb",
    "graffitiConfig": {
     "executeCellViaGraffiti": "oe35dyj_n27cxwq"
    }
   },
   "outputs": [],
   "source": [
    "#include <iostream>\n",
    "using std::cout;\n",
    "\n",
    "\n",
    "auto i = 0;\n",
    "\n",
    "while (i < 5) {\n",
    "  cout << i << \"\\n\";\n",
    "  i++;\n",
    "}\n"
   ]
  },
  {
   "cell_type": "markdown",
   "metadata": {
    "graffitiCellId": "id_w24ggj3"
   },
   "source": [
    "## Practice\n",
    "\n",
    "In the following code cell, you will combine a `while` loop with an `if` statement to print every other number. Write a while loop to iterate over the integers from 1 to 10. If the integer is even, print it out. \n",
    "\n",
    "Hint: you can tell if an integer is even by looking at its remainder after dividing by two. In C++, the remainder operator is `%`. In other words, for a given `int i`, you have `remainder = i % 2`. If `remainder` equals 0, the number is even. "
   ]
  },
  {
   "cell_type": "code",
   "execution_count": null,
   "metadata": {
    "graffitiCellId": "id_vaixvvo",
    "graffitiConfig": {
     "executeCellViaGraffiti": "s2f1iho_3ntug3j"
    }
   },
   "outputs": [],
   "source": [
    "#include <iostream>\n",
    "using std::cout;\n",
    "\n",
    "// Write your code here.\n",
    "\n"
   ]
  }
 ],
 "metadata": {
  "graffiti": {
   "firstAuthorId": "813558546",
   "id": "id_4evwuym",
   "language": "EN"
  },
  "kernelspec": {
   "display_name": "C++17",
   "language": "C++17",
   "name": "xeus-cling-cpp17"
  },
  "language_info": {
   "codemirror_mode": "text/x-c++src",
   "file_extension": ".cpp",
   "mimetype": "text/x-c++src",
   "name": "c++",
   "version": "-std=c++17"
  }
 },
 "nbformat": 4,
 "nbformat_minor": 2
}
