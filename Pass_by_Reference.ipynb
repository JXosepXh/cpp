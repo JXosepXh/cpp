{
 "cells": [
  {
   "cell_type": "markdown",
   "metadata": {
    "graffitiCellId": "id_toqo18k",
    "id": "g9kGKP6BO6DK"
   },
   "source": [
    "## 値の渡し方\n",
    "\n",
    "次の例では，関数 `MultiplyByTwo` に `int i` の _value_ を渡しています。コードを注意深く見て、実行する前に出力がどのようになるか予想してください。実行が終わったら、ボタンをクリックして説明を聞いてみましょう。"
   ]
  },
  {
   "cell_type": "code",
   "execution_count": 14,
   "metadata": {
    "id": "s6NoUXhczWsA"
   },
   "outputs": [],
   "source": [
    "#include <iostream>\n",
    "using std::cout;"
   ]
  },
  {
   "cell_type": "code",
   "execution_count": 15,
   "metadata": {
    "id": "1OHCBSqNzXaE"
   },
   "outputs": [],
   "source": [
    "int MultiplyByTwoFn(int i) {\n",
    "    i = 2*i;\n",
    "    return i;\n",
    "}"
   ]
  },
  {
   "cell_type": "code",
   "execution_count": 16,
   "metadata": {
    "graffitiCellId": "id_k57ee3i",
    "graffitiConfig": {
     "executeCellViaGraffiti": "vs0iros_774bfxc"
    },
    "id": "GMUjOQMzO6DN"
   },
   "outputs": [
    {
     "name": "stdout",
     "output_type": "stream",
     "text": [
      "The int a equals: 5\n",
      "The int b equals: 10\n",
      "The int a still equals: 5\n"
     ]
    }
   ],
   "source": [
    "int a = 5;\n",
    "cout << \"The int a equals: \" << a << \"\\n\";\n",
    "int b = MultiplyByTwoFn(a);\n",
    "cout << \"The int b equals: \" << b << \"\\n\";\n",
    "cout << \"The int a still equals: \" << a << \"\\n\";"
   ]
  },
  {
   "cell_type": "markdown",
   "metadata": {
    "graffitiCellId": "id_kd6x7cr",
    "id": "qcGhvvSSO6DP"
   },
   "source": [
    "上のコードでは、`a` は値によって関数に渡されているので、変数 `a` は関数内で起こることには影響されません。\n",
    "\n",
    "## 受け渡しの参照\n",
    "\n",
    "しかし、`a` の値自体を変更したい場合はどうすればいいでしょうか？例えば、関数に渡す変数がプログラムのある状態を保持していて、その状態を更新するように関数を書きたい場合などが考えられます。\n",
    "\n",
    "関数の中で `a` を変更することは可能です。そのためには、`a`の _値_ ではなく、変数 `a` への _参照_ を渡す必要があります。C++では，_参照は同じ変数の別名に過ぎません_ 。\n",
    "\n",
    "参照渡しを行うには、関数宣言で変数の前にアンパサンド `&` を追加するだけです。以下のコードで、この仕組みを試してみてください:"
   ]
  },
  {
   "cell_type": "code",
   "execution_count": 17,
   "metadata": {
    "graffitiCellId": "id_o4vzxqz",
    "graffitiConfig": {
     "executeCellViaGraffiti": "uh4jq5n_xreh479"
    },
    "id": "dY1Uiw5TO6DP"
   },
   "outputs": [],
   "source": [
    "#include <iostream>\n",
    "using std::cout;"
   ]
  },
  {
   "cell_type": "code",
   "execution_count": 18,
   "metadata": {
    "id": "X6h1s7GezfnR"
   },
   "outputs": [],
   "source": [
    "int MultiplyByTwo(int &i) {\n",
    "    i = 2*i;\n",
    "    return i;\n",
    "}"
   ]
  },
  {
   "cell_type": "code",
   "execution_count": 19,
   "metadata": {
    "id": "daegAsShzgAN"
   },
   "outputs": [
    {
     "name": "stdout",
     "output_type": "stream",
     "text": [
      "The int a equals: 5\n",
      "The int b equals: 10\n",
      "The int a now equals: 10\n"
     ]
    }
   ],
   "source": [
    "int a = 5;\n",
    "cout << \"The int a equals: \" << a << \"\\n\";\n",
    "int b = MultiplyByTwo(a);\n",
    "cout << \"The int b equals: \" << b << \"\\n\";\n",
    "cout << \"The int a now equals: \" << a << \"\\n\";"
   ]
  },
  {
   "cell_type": "markdown",
   "metadata": {
    "graffitiCellId": "id_idwef9c",
    "id": "mstf2luXO6DT"
   },
   "source": [
    "上記のコードでは、`MultiplyByTwo` への引数が参照: `&i`であることから、`a` が参照によって関数 `MultiplyByTwo` に渡されています。つまり、`i`は関数に渡された変数の別名になります。関数が `i` の値を変更すると、`a` の値も変わることになります。"
   ]
  },
  {
   "cell_type": "markdown",
   "metadata": {
    "graffitiCellId": "id_hsdsg95",
    "id": "D5XcwGQLO6DU"
   },
   "source": [
    "### 演習\n",
    "\n",
    "以下の関数を参照を受け取るように変更して、渡された変数を直接関数で変更できるようにしてください。"
   ]
  },
  {
   "cell_type": "code",
   "execution_count": 20,
   "metadata": {
    "id": "0W_mLRPyzqvZ"
   },
   "outputs": [],
   "source": [
    "#include <iostream>\n",
    "#include <string>\n",
    "using std::cout;\n",
    "using std::string;"
   ]
  },
  {
   "cell_type": "code",
   "execution_count": 21,
   "metadata": {
    "id": "pPmOfo7OzrXA"
   },
   "outputs": [],
   "source": [
    "void DoubleString(std::string value) {\n",
    "    // 文字列をスペースで連結する。\n",
    "    value = value + \" \" + value;\n",
    "}"
   ]
  },
  {
   "cell_type": "code",
   "execution_count": 22,
   "metadata": {
    "graffitiCellId": "id_377nkxb",
    "graffitiConfig": {
     "executeCellViaGraffiti": "ldewkrl_c0pz3bd"
    },
    "id": "kdquNHuoO6DU"
   },
   "outputs": [
    {
     "name": "stdout",
     "output_type": "stream",
     "text": [
      "The string s is: Hello\n",
      "The string s is now: Hello\n"
     ]
    }
   ],
   "source": [
    "std::string s = \"Hello\";\n",
    "std::cout << \"The string s is: \" << s << \"\\n\";\n",
    "DoubleString(s);\n",
    "std::cout << \"The string s is now: \" << s << \"\\n\";"
   ]
  },
  {
   "cell_type": "code",
   "execution_count": null,
   "metadata": {},
   "outputs": [],
   "source": []
  },
  {
   "cell_type": "code",
   "execution_count": null,
   "metadata": {},
   "outputs": [],
   "source": []
  }
 ],
 "metadata": {
  "colab": {
   "collapsed_sections": [],
   "name": "Pass_by_Reference.ipynb",
   "provenance": []
  },
  "graffiti": {
   "firstAuthorId": "813558546",
   "id": "id_svft7kc",
   "language": "EN"
  },
  "kernelspec": {
   "display_name": "C++17",
   "language": "C++17",
   "name": "xcpp17"
  },
  "language_info": {
   "codemirror_mode": "text/x-c++src",
   "file_extension": ".cpp",
   "mimetype": "text/x-c++src",
   "name": "c++",
   "version": "17"
  }
 },
 "nbformat": 4,
 "nbformat_minor": 1
}
