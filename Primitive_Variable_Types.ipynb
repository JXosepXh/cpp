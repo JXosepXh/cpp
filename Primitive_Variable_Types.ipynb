{
 "cells": [
  {
   "cell_type": "markdown",
   "metadata": {
    "graffitiCellId": "id_59ioypd"
   },
   "source": [
    "## Primitive Variable Types\n",
    "\n",
    "C++ has several \"primitive\" variable types, which are things like `int`s (integers), `string`s, `float`s, and others. These should be similar to variable types in other programming languages you have used. "
   ]
  },
  {
   "cell_type": "markdown",
   "metadata": {
    "graffitiCellId": "id_lyntt03"
   },
   "source": [
    "**Note:** In the cells below, variables will be declared and values assigned. In C++, once a variable has been declared, it can not be redeclared in the same scope. This means that if you try to declare a variable twice in the same function, you will see an error."
   ]
  },
  {
   "cell_type": "code",
   "execution_count": null,
   "metadata": {
    "graffitiCellId": "id_y66e4m7",
    "graffitiConfig": {
     "executeCellViaGraffiti": "cgwkwly_8cbygnp"
    }
   },
   "outputs": [],
   "source": [
    "#include <iostream>\n",
    "#include <string>\n",
    "using std::cout;"
   ]
  },
  {
   "cell_type": "code",
   "execution_count": null,
   "metadata": {},
   "outputs": [],
   "source": [
    "// Declaring and initializing an int variable.\n",
    "int a = 9;\n",
    "\n",
    "// Declaring a string variable without initializing right away.\n",
    "std::string b;\n",
    "\n",
    "// Initializing the string b.\n",
    "b = \"Here is a string\";\n",
    "\n",
    "cout << a << \"\\n\";\n",
    "cout << b << \"\\n\";"
   ]
  },
  {
   "cell_type": "markdown",
   "metadata": {
    "graffitiCellId": "id_ztusej3"
   },
   "source": [
    "### Practice\n",
    "\n",
    "Practice declaring an `int` with the name `j` in the cell below and assing the value `10` to `j`."
   ]
  },
  {
   "cell_type": "code",
   "execution_count": null,
   "metadata": {
    "graffitiCellId": "id_dlkgsno",
    "graffitiConfig": {
     "executeCellViaGraffiti": "bzw649j_szy3b0r"
    }
   },
   "outputs": [],
   "source": [
    "#include <iostream>\n",
    "#include <string>\n",
    "using std::cout;\n",
    "\n",
    "\n",
    "// Declare and initialize j here."
   ]
  }
 ],
 "metadata": {
  "graffiti": {
   "firstAuthorId": "813558546",
   "id": "id_ngrn6v8",
   "language": "EN"
  },
  "kernelspec": {
   "display_name": "C++17",
   "language": "C++17",
   "name": "xcpp17"
  },
  "language_info": {
   "codemirror_mode": "text/x-c++src",
   "file_extension": ".cpp",
   "mimetype": "text/x-c++src",
   "name": "c++",
   "version": "17"
  }
 },
 "nbformat": 4,
 "nbformat_minor": 2
}
