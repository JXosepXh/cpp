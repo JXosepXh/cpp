{
 "cells": [
  {
   "cell_type": "markdown",
   "metadata": {
    "graffitiCellId": "id_8nh5wta"
   },
   "source": [
    "## Streaming `int`s from a `string` with istringstream\n",
    "\n",
    "In C++ strings can be streamed into temporary variables, similarly to how files can be streamed into strings. Streaming a string allows us to work with each character individually.\n",
    "\n",
    "One way to stream a string is to use an input string stream object `istringstream` from the `<sstream>` header. \n",
    "\n",
    "Once an `istringstream` object has been created, parts of the string can be streamed and stored using the \"extraction operator\": `>>`. The extraction operator will read until whitespace is reached or until the stream fails. Execute the following code to see how this works:"
   ]
  },
  {
   "cell_type": "code",
   "execution_count": 5,
   "metadata": {
    "graffitiCellId": "id_ba7nvek",
    "graffitiConfig": {
     "executeCellViaGraffiti": "4pd9ib7_gtb4ms0"
    }
   },
   "outputs": [
    {
     "name": "stdout",
     "output_type": "stream",
     "text": [
      "1\n"
     ]
    }
   ],
   "source": [
    "#include <iostream>\n",
    "#include <sstream>\n",
    "#include <string>\n",
    "\n",
    "using std::istringstream;\n",
    "using std::string;\n",
    "using std::cout;\n",
    "\n",
    "\n",
    "string a(\"1 2 3\");\n",
    "\n",
    "istringstream my_stream(a);\n",
    "\n",
    "int n;\n",
    "my_stream >> n;\n",
    "cout << n << \"\\n\";"
   ]
  },
  {
   "cell_type": "markdown",
   "metadata": {
    "graffitiCellId": "id_tcqm7o3"
   },
   "source": [
    "The `istringstream` object can also be used as a boolean to determine if the last extraction operation failed - this happens if there wasn't any more of the string to stream, for example. If the stream still has more characters, you are able to stream again. See the following code for an example of using the `istringstream` this way:"
   ]
  },
  {
   "cell_type": "code",
   "execution_count": 6,
   "metadata": {
    "graffitiCellId": "id_ez9m32p",
    "graffitiConfig": {
     "executeCellViaGraffiti": "ckczl1i_xgvtn1p"
    }
   },
   "outputs": [
    {
     "name": "stderr",
     "output_type": "stream",
     "text": [
      "In file included from input_line_1:1:\n",
      "In file included from /srv/conda/envs/notebook/bin/../lib/gcc/x86_64-conda-linux-gnu/9.3.0/../../../../x86_64-conda-linux-gnu/include/c++/9.3.0/new:40:\n",
      "In file included from /srv/conda/envs/notebook/bin/../lib/gcc/x86_64-conda-linux-gnu/9.3.0/../../../../x86_64-conda-linux-gnu/include/c++/9.3.0/exception:144:\n",
      "In file included from /srv/conda/envs/notebook/bin/../lib/gcc/x86_64-conda-linux-gnu/9.3.0/../../../../x86_64-conda-linux-gnu/include/c++/9.3.0/bits/nested_exception.h:40:\n",
      "In file included from /srv/conda/envs/notebook/bin/../lib/gcc/x86_64-conda-linux-gnu/9.3.0/../../../../x86_64-conda-linux-gnu/include/c++/9.3.0/bits/move.h:55:\n",
      "/srv/conda/envs/notebook/bin/../lib/gcc/x86_64-conda-linux-gnu/9.3.0/../../../../x86_64-conda-linux-gnu/include/c++/9.3.0/type_traits:137:31: error: no member named 'value' in 'std::__not_<std::is_lvalue_reference<std::basic_ostream<char> &> >'\n",
      "    : public conditional<_B1::value, __and_<_B2, _B3, _Bn...>, _B1>::type\n",
      "                         ~~~~~^\n",
      "/srv/conda/envs/notebook/bin/../lib/gcc/x86_64-conda-linux-gnu/9.3.0/../../../../x86_64-conda-linux-gnu/include/c++/9.3.0/ostream:685:24: note: in instantiation of template class 'std::__and_<std::__not_<std::is_lvalue_reference<std::basic_ostream<char> &> >, std::__is_convertible_to_basic_ostream<std::basic_ostream<char> &>, std::__is_insertable<std::basic_ostream<char> &, char const (&)[32], void> >' requested here\n",
      "    typename enable_if<__and_<__not_<is_lvalue_reference<_Ostream>>,\n",
      "                       ^\n",
      "input_line_16:15:14: note: while substituting deduced template arguments into function template 'operator<<' [with _Ostream = std::basic_ostream<char> &, _Tp = char [32]]\n",
      "        cout << \"That stream was NOT successful!\" << \"\\n\";            \n",
      "             ^\n"
     ]
    },
    {
     "ename": "Interpreter Error",
     "evalue": "",
     "output_type": "error",
     "traceback": [
      "Interpreter Error: "
     ]
    }
   ],
   "source": [
    "#include <iostream>\n",
    "#include <sstream>\n",
    "#include <string>\n",
    "\n",
    "using std::istringstream;\n",
    "using std::string;\n",
    "using std::cout;\n",
    "\n",
    "\n",
    "string a(\"1 2 3\");\n",
    "\n",
    "istringstream my_stream(a);\n",
    "\n",
    "int n;\n",
    "\n",
    "// Testing to see if the stream was successful and printing results.\n",
    "while (my_stream) {\n",
    "    my_stream >> n;\n",
    "    if (my_stream) {\n",
    "        cout << \"That stream was successful: \" << n << \"\\n\";\n",
    "    }\n",
    "    else {\n",
    "        cout << \"That stream was NOT successful!\" << \"\\n\";            \n",
    "    }\n",
    "}"
   ]
  },
  {
   "cell_type": "markdown",
   "metadata": {
    "graffitiCellId": "id_0uzk0yo"
   },
   "source": [
    "The extraction operator `>>` writes the stream to the variable on the right of the operator and returns the `istringstream` object, so the entire expression `my_stream >> n` is an `istringstream` object and can be used as a boolean! Because of this, a common way to use `istringstream` is to use the entire extraction expression in a while loop as follows:"
   ]
  },
  {
   "cell_type": "code",
   "execution_count": 1,
   "metadata": {
    "graffitiCellId": "id_5hbj5w6",
    "graffitiConfig": {
     "executeCellViaGraffiti": "7qu45sv_a8jag0t"
    }
   },
   "outputs": [],
   "source": [
    "#include <iostream>\n",
    "#include <sstream>\n",
    "#include <string>\n",
    "\n",
    "using std::istringstream;\n",
    "using std::string;\n",
    "using std::cout;"
   ]
  },
  {
   "cell_type": "code",
   "execution_count": 2,
   "metadata": {},
   "outputs": [
    {
     "name": "stdout",
     "output_type": "stream",
     "text": [
      "That stream was successful: 1\n",
      "That stream was successful: 2\n",
      "That stream was successful: 3\n",
      "The stream has failed.\n"
     ]
    }
   ],
   "source": [
    "std::string a(\"1 2 3\");\n",
    "\n",
    "istringstream my_stream(a);\n",
    "\n",
    "int n;\n",
    "\n",
    "while (my_stream >> n) {\n",
    "  std::cout << \"That stream was successful: \" << n << \"\\n\";\n",
    "}\n",
    "std::cout << \"The stream has failed.\" << \"\\n\";"
   ]
  },
  {
   "cell_type": "markdown",
   "metadata": {
    "graffitiCellId": "id_m4q52ua"
   },
   "source": [
    "### Strings with Mixed Types\n",
    "\n",
    "In the stream example above, the string contained only whitespaces and characters which could be converted to `int`s. If the string has mixed types, more care is needed to process the string. In the following example, the type `char` is used, which is a type that can hold only a single ASCII character."
   ]
  },
  {
   "cell_type": "code",
   "execution_count": 1,
   "metadata": {
    "graffitiCellId": "id_45mq301",
    "graffitiConfig": {
     "executeCellViaGraffiti": "6f54py6_2de9w7y"
    }
   },
   "outputs": [],
   "source": [
    "#include <iostream>\n",
    "#include <sstream>\n",
    "#include <string>\n",
    "\n",
    "using std::istringstream;\n",
    "using std::string;\n",
    "using std::cout;"
   ]
  },
  {
   "cell_type": "code",
   "execution_count": 2,
   "metadata": {},
   "outputs": [
    {
     "name": "stdout",
     "output_type": "stream",
     "text": [
      "That stream was successful:1 ,\n",
      "That stream was successful:2 ,\n",
      "The stream has failed.\n"
     ]
    }
   ],
   "source": [
    "std::string b(\"1,2,3\");\n",
    "\n",
    "istringstream my_stream(b);\n",
    "\n",
    "char c;\n",
    "int n;\n",
    "\n",
    "while (my_stream >> n >> c) {\n",
    "  std::cout << \"That stream was successful:\" << n << \" \" << c << \"\\n\";\n",
    "}\n",
    "std::cout << \"The stream has failed.\" << \"\\n\";"
   ]
  },
  {
   "cell_type": "markdown",
   "metadata": {
    "graffitiCellId": "id_abvuf0k"
   },
   "source": [
    "In that example, notice that the `3` was not printed! The expression: \n",
    "```\n",
    "my_stream >> n >> c\n",
    "``` \n",
    "tried to stream an `int` followed by a `char`. Since there was no `char` after the `3`, the stream failed and the `while` loop exited."
   ]
  }
 ],
 "metadata": {
  "graffiti": {
   "firstAuthorId": "813558546",
   "id": "id_jvv9a24",
   "language": "EN"
  },
  "kernelspec": {
   "display_name": "C++17",
   "language": "C++17",
   "name": "xcpp17"
  },
  "language_info": {
   "codemirror_mode": "text/x-c++src",
   "file_extension": ".cpp",
   "mimetype": "text/x-c++src",
   "name": "c++",
   "version": "17"
  },
  "udacity": {
   "header": {
    "hidden": true
   },
   "menubar": {
    "hidden": true
   },
   "toolbar": {
    "hidden": true
   }
  }
 },
 "nbformat": 4,
 "nbformat_minor": 2
}
