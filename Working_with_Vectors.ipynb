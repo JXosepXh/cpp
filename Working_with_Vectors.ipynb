{
 "cells": [
  {
   "cell_type": "markdown",
   "metadata": {
    "graffitiCellId": "id_fk9y9bq"
   },
   "source": [
    "## 1D Vector Access\n",
    "\n",
    "To begin, it is helpful to know how to access vector elements of an existing vector. Execute the cells below to see how this can be done:"
   ]
  },
  {
   "cell_type": "code",
   "execution_count": null,
   "metadata": {
    "graffitiCellId": "id_hssaras",
    "graffitiConfig": {
     "executeCellViaGraffiti": "dycuabb_c77vb0n"
    }
   },
   "outputs": [],
   "source": [
    "#include <iostream>\n",
    "#include <vector>\n",
    "using std::vector;\n",
    "using std::cout;\n"
   ]
  },
  {
   "cell_type": "code",
   "execution_count": null,
   "metadata": {},
   "outputs": [],
   "source": [
    "vector<int> a = {0, 1, 2, 3, 4};\n",
    "cout << a[0];\n",
    "cout << a[1];\n",
    "cout << a[2];\n",
    "cout << \"\\n\";"
   ]
  },
  {
   "cell_type": "markdown",
   "metadata": {
    "graffitiCellId": "id_nfrvvdu"
   },
   "source": [
    "Great! Now try accessing some of the elements of vector `a` yourself in the cell bellow:"
   ]
  },
  {
   "cell_type": "code",
   "execution_count": null,
   "metadata": {
    "graffitiCellId": "id_slwlm8r",
    "graffitiConfig": {
     "executeCellViaGraffiti": "iy6lmm6_exm3vkz"
    }
   },
   "outputs": [],
   "source": [
    "#include <iostream>\n",
    "#include <vector>\n",
    "using std::vector;\n",
    "using std::cout;\n",
    "\n",
    "vector<int> a = {0, 1, 2, 3, 4};\n",
    "// Add some code here to access and print elements of a.\n",
    "cout << \"\\n\";"
   ]
  },
  {
   "cell_type": "markdown",
   "metadata": {
    "graffitiCellId": "id_n53crjg"
   },
   "source": [
    "If you tried to access the elements of `a` using an out-of-bound index, you might have noticed that there is no error or exception thrown. If you haven't seen this already, try the following code in the cell above to see what happens:\n",
    "```\n",
    "cout << a[10];\n",
    "```"
   ]
  },
  {
   "cell_type": "markdown",
   "metadata": {
    "graffitiCellId": "id_otxcjw2"
   },
   "source": [
    "In this case, *the behavior is undefined*, so you can not depend on a certain value to be returned. Be careful about this! In a later lesson where you will learn about exceptions, we will discuss other ways to access vector elements that don't fail silently with out-of-range indices.\n",
    "\n",
    "## 2D Vector Access\n",
    "\n",
    "In the previous exercise, you stored a 2D vector - a `vector<vector<int>>`. The syntax for accessing elements of a 2D vector is very similar to accessing in a 1D vector. In the second cell below, try accessing an element of `b`. If you get stuck, click the solution button for help."
   ]
  },
  {
   "cell_type": "code",
   "execution_count": null,
   "metadata": {
    "graffitiCellId": "id_e6jn5p4",
    "graffitiConfig": {
     "executeCellViaGraffiti": "2ulwnxb_ljxwvgc"
    }
   },
   "outputs": [],
   "source": [
    "#include <iostream>\n",
    "#include <vector>\n",
    "using std::vector;\n",
    "using std::cout;\n",
    "\n",
    "\n",
    "vector<vector<int>> b = {{1, 1, 2, 3},\n",
    "                         {2, 1, 2, 3},\n",
    "                         {3, 1, 2, 3}};\n"
   ]
  },
  {
   "cell_type": "markdown",
   "metadata": {
    "graffitiCellId": "id_jnurl8n"
   },
   "source": [
    "## Getting a Vector's Length\n",
    "\n",
    "### 1D Vector Length\n",
    "\n",
    "One method of a `vector` object that will be useful in the next code exercise is the `.size()` method. This returns the length of the vector. Execute the cell below to see how this can be used:"
   ]
  },
  {
   "cell_type": "code",
   "execution_count": null,
   "metadata": {
    "graffitiCellId": "id_49xczwr",
    "graffitiConfig": {
     "executeCellViaGraffiti": "nuupied_43kpo9r"
    }
   },
   "outputs": [],
   "source": [
    "#include <iostream>\n",
    "#include <vector>\n",
    "using std::vector;\n",
    "using std::cout;\n",
    "\n",
    "\n",
    "vector<int> a = {0, 1, 2, 3, 4};\n",
    "\n",
    "// Print the length of vector a to the console.\n",
    "cout << a.size() << \"\\n\";\n"
   ]
  },
  {
   "cell_type": "markdown",
   "metadata": {
    "graffitiCellId": "id_apst2ip"
   },
   "source": [
    "### 2D Vector Length\n",
    "\n",
    "For the `vector<vector<int>>` `b` defined above, try to get the size of one of the inner vectors - this should be 4. If you have trouble, click the button below for some help."
   ]
  },
  {
   "cell_type": "code",
   "execution_count": null,
   "metadata": {
    "graffitiCellId": "id_emicf3f",
    "graffitiConfig": {
     "executeCellViaGraffiti": "rnq0nee_pz6y5de"
    }
   },
   "outputs": [],
   "source": [
    "#include <iostream>\n",
    "#include <vector>\n",
    "using std::vector;\n",
    "using std::cout;\n",
    "\n",
    "vector<vector<int>> b = {{1, 1, 2, 3},\n",
    "                         {2, 1, 2, 3},\n",
    "                         {3, 1, 2, 3}};\n",
    "// Print the length of an inner vector of b here.\n",
    "\n"
   ]
  },
  {
   "cell_type": "markdown",
   "metadata": {
    "graffitiCellId": "id_ekcrqoh"
   },
   "source": [
    "Nice work! You now know a little more about C++ vectors. After learning about for loops, you should be well prepared for the upcoming code exercises."
   ]
  }
 ],
 "metadata": {
  "graffiti": {
   "firstAuthorId": "10467858656",
   "id": "id_ikelrdx",
   "language": "EN"
  },
  "kernelspec": {
   "display_name": "C++17",
   "language": "C++17",
   "name": "xeus-cling-cpp17"
  },
  "language_info": {
   "codemirror_mode": "text/x-c++src",
   "file_extension": ".cpp",
   "mimetype": "text/x-c++src",
   "name": "c++",
   "version": "-std=c++17"
  }
 },
 "nbformat": 4,
 "nbformat_minor": 2
}
